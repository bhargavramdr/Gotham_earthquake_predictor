{
 "cells": [
  {
   "cell_type": "markdown",
   "id": "85a6a614",
   "metadata": {},
   "source": [
    "### Earthquake Predictor"
   ]
  },
  {
   "cell_type": "code",
   "execution_count": 10,
   "id": "2c2810c4",
   "metadata": {},
   "outputs": [],
   "source": [
    "import pandas as pd\n",
    "import numpy as np\n",
    "import matplotlib.pyplot as plt\n",
    "import seaborn as sns"
   ]
  },
  {
   "cell_type": "code",
   "execution_count": 11,
   "id": "f5df3c02",
   "metadata": {},
   "outputs": [
    {
     "data": {
      "text/plain": [
       "Index(['Date', 'Time', 'Latitude', 'Longitude', 'Type', 'Depth', 'Depth Error',\n",
       "       'Depth Seismic Stations', 'Magnitude', 'Magnitude Type',\n",
       "       'Magnitude Error', 'Magnitude Seismic Stations', 'Azimuthal Gap',\n",
       "       'Horizontal Distance', 'Horizontal Error', 'Root Mean Square', 'ID',\n",
       "       'Source', 'Location Source', 'Magnitude Source', 'Status'],\n",
       "      dtype='object')"
      ]
     },
     "execution_count": 11,
     "metadata": {},
     "output_type": "execute_result"
    }
   ],
   "source": [
    "data = pd.read_csv(\"Earthquake.csv\")\n",
    "data.columns\n"
   ]
  },
  {
   "cell_type": "code",
   "execution_count": 12,
   "id": "8d3b1e32",
   "metadata": {},
   "outputs": [
    {
     "data": {
      "text/html": [
       "<div>\n",
       "<style scoped>\n",
       "    .dataframe tbody tr th:only-of-type {\n",
       "        vertical-align: middle;\n",
       "    }\n",
       "\n",
       "    .dataframe tbody tr th {\n",
       "        vertical-align: top;\n",
       "    }\n",
       "\n",
       "    .dataframe thead th {\n",
       "        text-align: right;\n",
       "    }\n",
       "</style>\n",
       "<table border=\"1\" class=\"dataframe\">\n",
       "  <thead>\n",
       "    <tr style=\"text-align: right;\">\n",
       "      <th></th>\n",
       "      <th>Date</th>\n",
       "      <th>Time</th>\n",
       "      <th>Latitude</th>\n",
       "      <th>Longitude</th>\n",
       "      <th>Depth</th>\n",
       "      <th>Magnitude</th>\n",
       "    </tr>\n",
       "  </thead>\n",
       "  <tbody>\n",
       "    <tr>\n",
       "      <th>0</th>\n",
       "      <td>02-01-1965</td>\n",
       "      <td>13.44.18</td>\n",
       "      <td>19.246</td>\n",
       "      <td>145.616</td>\n",
       "      <td>131.6</td>\n",
       "      <td>6.0</td>\n",
       "    </tr>\n",
       "    <tr>\n",
       "      <th>1</th>\n",
       "      <td>04-01-1965</td>\n",
       "      <td>11.29.49</td>\n",
       "      <td>1.863</td>\n",
       "      <td>127.352</td>\n",
       "      <td>80.0</td>\n",
       "      <td>5.8</td>\n",
       "    </tr>\n",
       "    <tr>\n",
       "      <th>2</th>\n",
       "      <td>05-01-1965</td>\n",
       "      <td>18.05.58</td>\n",
       "      <td>-20.579</td>\n",
       "      <td>-173.972</td>\n",
       "      <td>20.0</td>\n",
       "      <td>6.2</td>\n",
       "    </tr>\n",
       "    <tr>\n",
       "      <th>3</th>\n",
       "      <td>08-01-1965</td>\n",
       "      <td>18.49.43</td>\n",
       "      <td>-59.076</td>\n",
       "      <td>-23.557</td>\n",
       "      <td>15.0</td>\n",
       "      <td>5.8</td>\n",
       "    </tr>\n",
       "    <tr>\n",
       "      <th>4</th>\n",
       "      <td>09-01-1965</td>\n",
       "      <td>13.32.50</td>\n",
       "      <td>11.938</td>\n",
       "      <td>126.427</td>\n",
       "      <td>15.0</td>\n",
       "      <td>5.8</td>\n",
       "    </tr>\n",
       "  </tbody>\n",
       "</table>\n",
       "</div>"
      ],
      "text/plain": [
       "         Date      Time  Latitude  Longitude  Depth  Magnitude\n",
       "0  02-01-1965  13.44.18    19.246    145.616  131.6        6.0\n",
       "1  04-01-1965  11.29.49     1.863    127.352   80.0        5.8\n",
       "2  05-01-1965  18.05.58   -20.579   -173.972   20.0        6.2\n",
       "3  08-01-1965  18.49.43   -59.076    -23.557   15.0        5.8\n",
       "4  09-01-1965  13.32.50    11.938    126.427   15.0        5.8"
      ]
     },
     "execution_count": 12,
     "metadata": {},
     "output_type": "execute_result"
    }
   ],
   "source": [
    "data = data[['Date', 'Time', 'Latitude', 'Longitude', 'Depth', 'Magnitude']]\n",
    "data.head()"
   ]
  },
  {
   "cell_type": "code",
   "execution_count": 13,
   "id": "16219f85",
   "metadata": {},
   "outputs": [
    {
     "data": {
      "text/html": [
       "<div>\n",
       "<style scoped>\n",
       "    .dataframe tbody tr th:only-of-type {\n",
       "        vertical-align: middle;\n",
       "    }\n",
       "\n",
       "    .dataframe tbody tr th {\n",
       "        vertical-align: top;\n",
       "    }\n",
       "\n",
       "    .dataframe thead th {\n",
       "        text-align: right;\n",
       "    }\n",
       "</style>\n",
       "<table border=\"1\" class=\"dataframe\">\n",
       "  <thead>\n",
       "    <tr style=\"text-align: right;\">\n",
       "      <th></th>\n",
       "      <th>Latitude</th>\n",
       "      <th>Longitude</th>\n",
       "      <th>Depth</th>\n",
       "      <th>Magnitude</th>\n",
       "      <th>Timestamp</th>\n",
       "    </tr>\n",
       "  </thead>\n",
       "  <tbody>\n",
       "    <tr>\n",
       "      <th>1456</th>\n",
       "      <td>-29.400</td>\n",
       "      <td>-177.169</td>\n",
       "      <td>35.0</td>\n",
       "      <td>5.6</td>\n",
       "      <td>42060.0</td>\n",
       "    </tr>\n",
       "    <tr>\n",
       "      <th>1457</th>\n",
       "      <td>24.185</td>\n",
       "      <td>102.543</td>\n",
       "      <td>11.3</td>\n",
       "      <td>7.1</td>\n",
       "      <td>7817441.0</td>\n",
       "    </tr>\n",
       "    <tr>\n",
       "      <th>1458</th>\n",
       "      <td>23.984</td>\n",
       "      <td>102.732</td>\n",
       "      <td>15.0</td>\n",
       "      <td>5.9</td>\n",
       "      <td>10390750.0</td>\n",
       "    </tr>\n",
       "    <tr>\n",
       "      <th>1459</th>\n",
       "      <td>-9.583</td>\n",
       "      <td>151.493</td>\n",
       "      <td>15.0</td>\n",
       "      <td>6.3</td>\n",
       "      <td>13046754.0</td>\n",
       "    </tr>\n",
       "    <tr>\n",
       "      <th>1460</th>\n",
       "      <td>15.785</td>\n",
       "      <td>-59.808</td>\n",
       "      <td>36.7</td>\n",
       "      <td>6.0</td>\n",
       "      <td>15647174.0</td>\n",
       "    </tr>\n",
       "  </tbody>\n",
       "</table>\n",
       "</div>"
      ],
      "text/plain": [
       "      Latitude  Longitude  Depth  Magnitude   Timestamp\n",
       "1456   -29.400   -177.169   35.0        5.6     42060.0\n",
       "1457    24.185    102.543   11.3        7.1   7817441.0\n",
       "1458    23.984    102.732   15.0        5.9  10390750.0\n",
       "1459    -9.583    151.493   15.0        6.3  13046754.0\n",
       "1460    15.785    -59.808   36.7        6.0  15647174.0"
      ]
     },
     "execution_count": 13,
     "metadata": {},
     "output_type": "execute_result"
    }
   ],
   "source": [
    "import datetime\n",
    "import time\n",
    "\n",
    "timestamp = []\n",
    "for d, t in zip(data['Date'], data['Time']):\n",
    "    try:\n",
    "        ts = datetime.datetime.strptime(d+' '+t, '%m-%d-%Y %H.%M.%S')\n",
    "        timestamp.append(time.mktime(ts.timetuple()))\n",
    "    except:\n",
    "        # print('ValueError')\n",
    "        timestamp.append('ValueError')\n",
    "timeStamp = pd.Series(timestamp)\n",
    "data['Timestamp'] = timeStamp.values\n",
    "final_data = data.drop(['Date', 'Time'], axis=1)\n",
    "final_data = final_data[final_data.Timestamp != 'ValueError']\n",
    "final_data.head()"
   ]
  },
  {
   "cell_type": "code",
   "execution_count": 14,
   "id": "ddccb95c",
   "metadata": {},
   "outputs": [],
   "source": [
    "X = final_data[['Timestamp', 'Latitude', 'Longitude']]\n",
    "y = final_data[['Magnitude', 'Depth']]\n"
   ]
  },
  {
   "cell_type": "code",
   "execution_count": 15,
   "id": "df2f9d46",
   "metadata": {},
   "outputs": [],
   "source": [
    "X = np.asarray(X).astype('float32')\n",
    "y = np.asarray(y).astype('float32')\n"
   ]
  },
  {
   "cell_type": "code",
   "execution_count": 25,
   "id": "71e46ed4",
   "metadata": {},
   "outputs": [
    {
     "data": {
      "text/plain": [
       "array([[ 4.2060000e+04, -2.9400000e+01, -1.7716901e+02],\n",
       "       [ 7.8174410e+06,  2.4184999e+01,  1.0254300e+02],\n",
       "       [ 1.0390750e+07,  2.3983999e+01,  1.0273200e+02],\n",
       "       ...,\n",
       "       [ 1.4762697e+09, -5.6592999e+00,  1.5447340e+02],\n",
       "       [ 1.4789414e+09, -9.1237001e+00, -1.0984920e+02],\n",
       "       [ 1.4789518e+09, -1.0964000e+01,  1.6157230e+02]], dtype=float32)"
      ]
     },
     "execution_count": 25,
     "metadata": {},
     "output_type": "execute_result"
    }
   ],
   "source": [
    "X"
   ]
  },
  {
   "cell_type": "code",
   "execution_count": 17,
   "id": "7e982e36",
   "metadata": {},
   "outputs": [
    {
     "name": "stdout",
     "output_type": "stream",
     "text": [
      "(6899, 3) (1725, 3) (6899, 2) (1725, 3)\n"
     ]
    }
   ],
   "source": [
    "from sklearn.model_selection import train_test_split\n",
    "\n",
    "X_train, X_test, y_train, y_test = train_test_split(X, y, test_size=0.2, random_state=42)\n",
    "print(X_train.shape, X_test.shape, y_train.shape, X_test.shape)"
   ]
  },
  {
   "cell_type": "code",
   "execution_count": 18,
   "id": "9cb9d9a8",
   "metadata": {},
   "outputs": [],
   "source": [
    "from keras.models import Sequential\n",
    "from keras.layers import Dense\n",
    "\n",
    "def create_model(neurons, activation, optimizer, loss):\n",
    "    model = Sequential()\n",
    "    model.add(Dense(neurons, activation=activation, input_shape=(3,)))\n",
    "    model.add(Dense(neurons, activation=activation))\n",
    "    model.add(Dense(2, activation='softmax'))\n",
    "    \n",
    "    model.compile(optimizer=optimizer, loss=loss, metrics=['accuracy'])\n",
    "    \n",
    "    return model"
   ]
  },
  {
   "cell_type": "code",
   "execution_count": 19,
   "id": "a7b47093",
   "metadata": {},
   "outputs": [],
   "source": [
    "from keras.wrappers.scikit_learn import KerasClassifier\n",
    "\n",
    "model = KerasClassifier(build_fn=create_model, verbose=0)\n",
    "\n",
    "# neurons = [16, 64, 128, 256]\n",
    "neurons = [16]\n",
    "# batch_size = [10, 20, 50, 100]\n",
    "batch_size = [10]\n",
    "epochs = [10]\n",
    "# activation = ['relu', 'tanh', 'sigmoid', 'hard_sigmoid', 'linear', 'exponential']\n",
    "activation = ['sigmoid', 'relu']\n",
    "# optimizer = ['SGD', 'RMSprop', 'Adagrad', 'Adadelta', 'Adam', 'Adamax', 'Nadam']\n",
    "optimizer = ['SGD', 'Adadelta']\n",
    "loss = ['squared_hinge']\n",
    "\n",
    "param_grid = dict(neurons=neurons, batch_size=batch_size, epochs=epochs, activation=activation, optimizer=optimizer, loss=loss)"
   ]
  },
  {
   "cell_type": "code",
   "execution_count": 21,
   "id": "a1d1ffae",
   "metadata": {},
   "outputs": [
    {
     "name": "stdout",
     "output_type": "stream",
     "text": [
      "Best: 0.600000 using {'activation': 'sigmoid', 'batch_size': 10, 'epochs': 10, 'loss': 'squared_hinge', 'neurons': 16, 'optimizer': 'SGD'}\n",
      "0.600000 (0.489898) with: {'activation': 'sigmoid', 'batch_size': 10, 'epochs': 10, 'loss': 'squared_hinge', 'neurons': 16, 'optimizer': 'SGD'}\n",
      "0.400000 (0.489898) with: {'activation': 'sigmoid', 'batch_size': 10, 'epochs': 10, 'loss': 'squared_hinge', 'neurons': 16, 'optimizer': 'Adadelta'}\n",
      "0.400000 (0.489898) with: {'activation': 'relu', 'batch_size': 10, 'epochs': 10, 'loss': 'squared_hinge', 'neurons': 16, 'optimizer': 'SGD'}\n",
      "0.600000 (0.489898) with: {'activation': 'relu', 'batch_size': 10, 'epochs': 10, 'loss': 'squared_hinge', 'neurons': 16, 'optimizer': 'Adadelta'}\n"
     ]
    }
   ],
   "source": [
    "from sklearn.model_selection import GridSearchCV\n",
    "\n",
    "grid = GridSearchCV(estimator=model, param_grid=param_grid, n_jobs=-1)\n",
    "grid_result = grid.fit(X_train, y_train)\n",
    "\n",
    "print(\"Best: %f using %s\" % (grid_result.best_score_, grid_result.best_params_))\n",
    "means = grid_result.cv_results_['mean_test_score']\n",
    "stds = grid_result.cv_results_['std_test_score']\n",
    "params = grid_result.cv_results_['params']\n",
    "for mean, stdev, param in zip(means, stds, params):\n",
    "    print(\"%f (%f) with: %r\" % (mean, stdev, param))"
   ]
  },
  {
   "cell_type": "code",
   "execution_count": 32,
   "id": "5868eb92",
   "metadata": {},
   "outputs": [
    {
     "name": "stdout",
     "output_type": "stream",
     "text": [
      "Epoch 1/10\n",
      "690/690 [==============================] - 2s 2ms/step - loss: 0.0026 - accuracy: 0.9841 - val_loss: 0.0049 - val_accuracy: 0.9797\n",
      "Epoch 2/10\n",
      "690/690 [==============================] - 1s 2ms/step - loss: 0.0026 - accuracy: 0.9841 - val_loss: 0.0049 - val_accuracy: 0.9797\n",
      "Epoch 3/10\n",
      "690/690 [==============================] - 1s 2ms/step - loss: 0.0026 - accuracy: 0.9841 - val_loss: 0.0049 - val_accuracy: 0.9797\n",
      "Epoch 4/10\n",
      "690/690 [==============================] - 1s 2ms/step - loss: 0.0026 - accuracy: 0.9841 - val_loss: 0.0049 - val_accuracy: 0.9797\n",
      "Epoch 5/10\n",
      "690/690 [==============================] - 1s 2ms/step - loss: 0.0026 - accuracy: 0.9841 - val_loss: 0.0049 - val_accuracy: 0.9797\n",
      "Epoch 6/10\n",
      "690/690 [==============================] - 1s 2ms/step - loss: 0.0026 - accuracy: 0.9841 - val_loss: 0.0049 - val_accuracy: 0.9797\n",
      "Epoch 7/10\n",
      "690/690 [==============================] - 1s 2ms/step - loss: 0.0026 - accuracy: 0.9841 - val_loss: 0.0049 - val_accuracy: 0.9797\n",
      "Epoch 8/10\n",
      "690/690 [==============================] - 1s 2ms/step - loss: 0.0026 - accuracy: 0.9841 - val_loss: 0.0049 - val_accuracy: 0.9797\n",
      "Epoch 9/10\n",
      "690/690 [==============================] - 1s 2ms/step - loss: 0.0026 - accuracy: 0.9841 - val_loss: 0.0049 - val_accuracy: 0.9797\n",
      "Epoch 10/10\n",
      "690/690 [==============================] - 1s 2ms/step - loss: 0.0026 - accuracy: 0.9841 - val_loss: 0.0049 - val_accuracy: 0.9797\n",
      "54/54 [==============================] - 0s 2ms/step - loss: 0.0049 - accuracy: 0.9797\n",
      "Evaluation result on Test Data : Loss = 0.004927537869662046, accuracy = 0.9797101616859436\n"
     ]
    }
   ],
   "source": [
    "model = Sequential()\n",
    "model.add(Dense(16, activation='sigmoid', input_shape=(3,)))\n",
    "model.add(Dense(16, activation='sigmoid'))\n",
    "model.add(Dense(2, activation='softmax'))\n",
    "\n",
    "model.compile(optimizer='SGD', loss='squared_hinge', metrics=['accuracy'])\n",
    "model.fit(X_train, y_train, batch_size=10, epochs=10, verbose=1, validation_data=(X_test, y_test))\n",
    "\n",
    "[test_loss, test_acc] = model.evaluate(X_test, y_test)\n",
    "print(\"Evaluation result on Test Data : Loss = {}, accuracy = {}\".format(test_loss, test_acc))"
   ]
  },
  {
   "cell_type": "code",
   "execution_count": 33,
   "id": "e0ec52ae",
   "metadata": {},
   "outputs": [
    {
     "data": {
      "text/plain": [
       "array([[0.18178806, 0.8182119 ],\n",
       "       [0.18178806, 0.8182119 ],\n",
       "       [0.18178806, 0.8182119 ],\n",
       "       ...,\n",
       "       [0.18178806, 0.8182119 ],\n",
       "       [0.18178806, 0.8182119 ],\n",
       "       [0.18178806, 0.8182119 ]], dtype=float32)"
      ]
     },
     "execution_count": 33,
     "metadata": {},
     "output_type": "execute_result"
    }
   ],
   "source": [
    "model.predict(X_test)"
   ]
  },
  {
   "cell_type": "code",
   "execution_count": 34,
   "id": "a9a86251",
   "metadata": {},
   "outputs": [
    {
     "data": {
      "text/plain": [
       "array([[0.15623249, 0.84376746]], dtype=float32)"
      ]
     },
     "execution_count": 34,
     "metadata": {},
     "output_type": "execute_result"
    }
   ],
   "source": [
    "sample = [[-29.400, -177.169, 42060.0]]\n",
    "\n",
    "model.predict(sample)"
   ]
  },
  {
   "cell_type": "code",
   "execution_count": 35,
   "id": "46362198",
   "metadata": {},
   "outputs": [
    {
     "name": "stdout",
     "output_type": "stream",
     "text": [
      "INFO:tensorflow:Assets written to: Earthquake\\assets\n"
     ]
    }
   ],
   "source": [
    "model.save(\"Earthquake\")\n",
    "model.save_weights(\"weights.h5\")\n",
    "\n"
   ]
  },
  {
   "cell_type": "code",
   "execution_count": null,
   "id": "7d8cc1ce",
   "metadata": {},
   "outputs": [],
   "source": []
  }
 ],
 "metadata": {
  "kernelspec": {
   "display_name": "Python 3 (ipykernel)",
   "language": "python",
   "name": "python3"
  },
  "language_info": {
   "codemirror_mode": {
    "name": "ipython",
    "version": 3
   },
   "file_extension": ".py",
   "mimetype": "text/x-python",
   "name": "python",
   "nbconvert_exporter": "python",
   "pygments_lexer": "ipython3",
   "version": "3.9.7"
  }
 },
 "nbformat": 4,
 "nbformat_minor": 5
}
