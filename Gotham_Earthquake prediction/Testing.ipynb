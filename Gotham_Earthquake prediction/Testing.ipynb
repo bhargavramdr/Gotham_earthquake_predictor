{
 "cells": [
  {
   "cell_type": "code",
   "execution_count": 1,
   "id": "24462bf8",
   "metadata": {},
   "outputs": [],
   "source": [
    "import pandas as pd\n",
    "import numpy as np"
   ]
  },
  {
   "cell_type": "code",
   "execution_count": 2,
   "id": "cf1b0470",
   "metadata": {},
   "outputs": [
    {
     "name": "stdout",
     "output_type": "stream",
     "text": [
      "WARNING:tensorflow:SavedModel saved prior to TF 2.5 detected when loading Keras model. Please ensure that you are saving the model with model.save() or tf.keras.models.save_model(), *NOT* tf.saved_model.save(). To confirm, there should be a file named \"keras_metadata.pb\" in the SavedModel directory.\n"
     ]
    }
   ],
   "source": [
    "from tensorflow import keras\n",
    "my_model = keras.models.load_model(\"Earthquake\")\n",
    "my_model.load_weights(\"weights.h5\")"
   ]
  },
  {
   "cell_type": "markdown",
   "id": "d5778602",
   "metadata": {},
   "source": [
    "### Testing "
   ]
  },
  {
   "cell_type": "code",
   "execution_count": 3,
   "id": "07341be8",
   "metadata": {},
   "outputs": [],
   "source": [
    "sample = [[-29.400, -177.169, 42060.0]]"
   ]
  },
  {
   "cell_type": "code",
   "execution_count": 4,
   "id": "768c9c96",
   "metadata": {},
   "outputs": [],
   "source": [
    "ans = my_model.predict(sample)"
   ]
  },
  {
   "cell_type": "code",
   "execution_count": null,
   "id": "d28677b1",
   "metadata": {},
   "outputs": [],
   "source": []
  }
 ],
 "metadata": {
  "kernelspec": {
   "display_name": "Python 3 (ipykernel)",
   "language": "python",
   "name": "python3"
  },
  "language_info": {
   "codemirror_mode": {
    "name": "ipython",
    "version": 3
   },
   "file_extension": ".py",
   "mimetype": "text/x-python",
   "name": "python",
   "nbconvert_exporter": "python",
   "pygments_lexer": "ipython3",
   "version": "3.9.7"
  }
 },
 "nbformat": 4,
 "nbformat_minor": 5
}
