{
 "cells": [
  {
   "cell_type": "code",
   "execution_count": 1,
   "id": "24462bf8",
   "metadata": {},
   "outputs": [],
   "source": [
    "import pandas as pd\n",
    "import numpy as np"
   ]
  },
  {
   "cell_type": "code",
   "execution_count": 2,
   "id": "cf1b0470",
   "metadata": {},
   "outputs": [],
   "source": [
    "from tensorflow import keras\n",
    "my_model = keras.models.load_model(\"Earthquake\")\n",
    "my_model.load_weights(\"weights.h5\")"
   ]
  },
  {
   "cell_type": "markdown",
   "id": "d5778602",
   "metadata": {},
   "source": [
    "### Testing "
   ]
  },
  {
   "cell_type": "code",
   "execution_count": 3,
   "id": "07341be8",
   "metadata": {},
   "outputs": [],
   "source": [
    "sample = [[-29.400, -177.169, 42060.0]]"
   ]
  },
  {
   "cell_type": "code",
   "execution_count": 4,
   "id": "768c9c96",
   "metadata": {},
   "outputs": [],
   "source": [
    "ans = my_model.predict(sample)"
   ]
  },
  {
   "cell_type": "code",
   "execution_count": 5,
   "id": "d28677b1",
   "metadata": {},
   "outputs": [
    {
     "data": {
      "text/plain": [
       "array([[0.15623249, 0.84376746]], dtype=float32)"
      ]
     },
     "execution_count": 5,
     "metadata": {},
     "output_type": "execute_result"
    }
   ],
   "source": [
    "ans"
   ]
  },
  {
   "cell_type": "code",
   "execution_count": null,
   "id": "bfc0f1ae",
   "metadata": {},
   "outputs": [],
   "source": []
  }
 ],
 "metadata": {
  "kernelspec": {
   "display_name": "Python 3 (ipykernel)",
   "language": "python",
   "name": "python3"
  },
  "language_info": {
   "codemirror_mode": {
    "name": "ipython",
    "version": 3
   },
   "file_extension": ".py",
   "mimetype": "text/x-python",
   "name": "python",
   "nbconvert_exporter": "python",
   "pygments_lexer": "ipython3",
   "version": "3.9.7"
  }
 },
 "nbformat": 4,
 "nbformat_minor": 5
}
